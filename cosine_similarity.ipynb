{
  "nbformat": 4,
  "nbformat_minor": 0,
  "metadata": {
    "colab": {
      "provenance": []
    },
    "kernelspec": {
      "name": "python3",
      "display_name": "Python 3"
    },
    "language_info": {
      "name": "python"
    }
  },
  "cells": [
    {
      "cell_type": "markdown",
      "source": [
        "Reference for this code:\n",
        "https://www.geeksforgeeks.org/cosine-similarity/"
      ],
      "metadata": {
        "id": "WINSARCkYEuB"
      }
    },
    {
      "cell_type": "code",
      "execution_count": null,
      "metadata": {
        "id": "05kqelGeiN3K"
      },
      "outputs": [],
      "source": [
        "import random, string\n",
        "from google.colab import auth\n",
        "auth.authenticate_user()\n",
        "\n",
        "import gspread\n",
        "from google.auth import default\n",
        "creds, _ = default()\n",
        "\n",
        "gc = gspread.authorize(creds)\n",
        "spreadsheet = gc.open('results_llama2_3eps_500samples')\n",
        "baseline_sheet = spreadsheet.worksheet('Baseline_200test')\n",
        "llama2b_it_sheet = spreadsheet.worksheet('Llama2_it')\n",
        "\n",
        "llama2bdata = llama2b_it_sheet.get_all_values()\n",
        "llama2bdata = llama2bdata[1:201]\n",
        "\n",
        "all_data_sheet = spreadsheet.worksheet('Clean_text_data')\n",
        "all_data = all_data_sheet.get_all_values()\n",
        "all_data = all_data[1:]\n",
        "\n",
        "data = baseline_sheet.get_all_values()\n",
        "data = data[1:201]\n"
      ]
    },
    {
      "cell_type": "code",
      "source": [
        "sw = stopwords.words('english')\n",
        "sw.append('.')\n",
        "sw.append(',')\n",
        "sw.append(':')\n",
        "sw.append(';')\n",
        "sw.append('\\'')\n",
        "sw.append('\\\"')"
      ],
      "metadata": {
        "id": "UHarDiYPm82B"
      },
      "execution_count": null,
      "outputs": []
    },
    {
      "cell_type": "markdown",
      "source": [
        "Getting cosines for baseline data"
      ],
      "metadata": {
        "id": "1TJhhq45uYBv"
      }
    },
    {
      "cell_type": "code",
      "source": [
        "import nltk\n",
        "import math\n",
        "nltk.download('punkt')\n",
        "nltk.download('stopwords')\n",
        "from nltk.corpus import stopwords\n",
        "from nltk.tokenize import word_tokenize\n",
        "\n",
        "texts = []\n",
        "\n",
        "totalcosine = 0\n",
        "\n",
        "cosine_sum_by_dataset = {}\n",
        "cosine_sum_by_rewrite = {}\n",
        "count_by_dataset = {}\n",
        "count_by_rewrite = {}\n",
        "\n",
        "\n",
        "for item in data:\n",
        "  pred, actual, rewriteLabel, datasetLabel = item[:4]\n",
        "  # print(\"pred\", pred, '\\n', \"actual\", actual, '\\n', rewriteLabel, datasetLabel)\n",
        "\n",
        "  #tokenization\n",
        "  pred_list = word_tokenize(pred)\n",
        "  actual_list = word_tokenize(actual)\n",
        "\n",
        "  # print(\"pred_list\", pred_list)\n",
        "  # print(\"actual_list\", actual_list)\n",
        "\n",
        "  pred_list_final =[]; actual_list_final =[]\n",
        "\n",
        "  #remove stop words from the string\n",
        "  pred_set = {w for w in pred_list if not w in sw}\n",
        "  actual_set = {w for w in actual_list if not w in sw}\n",
        "\n",
        "  # print(\"pred_set\", pred_set)\n",
        "  # print(\"actual_set\", actual_set)\n",
        "\n",
        "  # form a set containing keywords of both strings\n",
        "  rvector = pred_set.union(actual_set)\n",
        "  for w in rvector:\n",
        "    if w in pred_set: pred_list_final.append(1) # create a vector\n",
        "    else: pred_list_final.append(0)\n",
        "    if w in actual_set: actual_list_final.append(1)\n",
        "    else: actual_list_final.append(0)\n",
        "\n",
        "  #calculating cosine similarity\n",
        "  c = 0\n",
        "\n",
        "  for i in range(len(rvector)):\n",
        "      c+= pred_list_final[i]*actual_list_final[i]\n",
        "\n",
        "  cosine = c / float((sum(pred_list_final)*sum(actual_list_final))**0.5)\n",
        "  # print(\"similarity: \", cosine)\n",
        "  cosine_sum_by_dataset[datasetLabel] = cosine_sum_by_dataset.get(datasetLabel, 0)+cosine\n",
        "  cosine_sum_by_rewrite[rewriteLabel] = cosine_sum_by_rewrite.get(rewriteLabel, 0)+cosine\n",
        "  count_by_dataset[datasetLabel] = count_by_dataset.get(datasetLabel, 0)+1\n",
        "  count_by_rewrite[rewriteLabel] = count_by_rewrite.get(rewriteLabel, 0)+1\n",
        "  totalcosine += cosine\n",
        "\n",
        "print(\"avg cosine value\", totalcosine/len(data))\n",
        "print(\"avg cosines for each dataset category\")\n",
        "for label in cosine_sum_by_dataset.keys():\n",
        "  print(\"avg cosine for the label\", label, \"is\", cosine_sum_by_dataset[label]/count_by_dataset[label])\n",
        "\n",
        "for label in cosine_sum_by_rewrite.keys():\n",
        "  print(\"avg cosine for the label\", label, \"is\", cosine_sum_by_rewrite[label]/count_by_rewrite[label])\n",
        "\n"
      ],
      "metadata": {
        "colab": {
          "base_uri": "https://localhost:8080/"
        },
        "id": "iiIbd9Desuan",
        "outputId": "9c015e20-1777-450a-8a81-c44df3662fe6"
      },
      "execution_count": null,
      "outputs": [
        {
          "output_type": "stream",
          "name": "stdout",
          "text": [
            "avg cosine value 0.41597306053804883\n",
            "avg cosines for each dataset category\n",
            "avg cosine for the label forum_messages is 0.4863005715182246\n",
            "avg cosine for the label eli5-human is 0.5663790818948364\n",
            "avg cosine for the label openwebtext is 0.2935773942312788\n",
            "avg cosine for the label eli5-chatgpt is 0.40451514885908835\n",
            "avg cosine for the label Poetry is 0.3333333333333333\n",
            "avg cosine for the label Formality_fix is 0.4571976876381391\n",
            "avg cosine for the label language is 0.18392908263381288\n",
            "avg cosine for the label Theme_change is 0.655514963978329\n",
            "avg cosine for the label Genre_change is 0.37222532307687933\n",
            "avg cosine for the label Enhancement is 0.1178511301977579\n",
            "avg cosine for the label music is 0.31843039275301616\n",
            "avg cosine for the label creative is 0.7113005609164272\n",
            "avg cosine for the label Perspective_shift is 0.2943261725754528\n",
            "avg cosine for the label Active/Passive is 0.5955290742875216\n",
            "avg cosine for the label Style_mimic is 0.3458968670179235\n",
            "avg cosine for the label Paraphrasing is 0.3635392146308778\n",
            "avg cosine for the label Tone_change is 0.3088309830790538\n",
            "avg cosine for the label Enhancement_Details is 0.1650638176746969\n",
            "avg cosine for the label Style_change is 0.525\n",
            "avg cosine for the label Conciseness is 0.34485806554304305\n",
            "avg cosine for the label Professional_settings is 0.45722978196436154\n"
          ]
        },
        {
          "output_type": "stream",
          "name": "stderr",
          "text": [
            "[nltk_data] Downloading package punkt to /root/nltk_data...\n",
            "[nltk_data]   Package punkt is already up-to-date!\n",
            "[nltk_data] Downloading package stopwords to /root/nltk_data...\n",
            "[nltk_data]   Package stopwords is already up-to-date!\n"
          ]
        }
      ]
    },
    {
      "cell_type": "markdown",
      "source": [
        "Getting cosines for instruct llama model data\n"
      ],
      "metadata": {
        "id": "--SYg3VLLJID"
      }
    },
    {
      "cell_type": "code",
      "source": [
        "import nltk\n",
        "import math\n",
        "nltk.download('punkt')\n",
        "nltk.download('stopwords')\n",
        "from nltk.corpus import stopwords\n",
        "from nltk.tokenize import word_tokenize\n",
        "\n",
        "texts = []\n",
        "totalcosine = 0\n",
        "cosine_sum_by_dataset = {}\n",
        "cosine_sum_by_rewrite = {}\n",
        "count_by_dataset = {}\n",
        "count_by_rewrite = {}\n",
        "\n",
        "for item in llama2bdata:\n",
        "  pred, actual, rewriteLabel, datasetLabel = item[:4]\n",
        "  # print(\"pred\", pred, '\\n', \"actual\", actual)\n",
        "\n",
        "  #tokenization\n",
        "  pred_list = word_tokenize(pred)\n",
        "  actual_list = word_tokenize(actual)\n",
        "\n",
        "  # print(\"pred_list\", pred_list)\n",
        "  # print(\"actual_list\", actual_list)\n",
        "\n",
        "  # sw contains the list of stopwords\n",
        "\n",
        "  pred_list_final =[]; actual_list_final =[]\n",
        "\n",
        "  #remove stop words from the string\n",
        "  pred_set = {w for w in pred_list if not w in sw}\n",
        "  actual_set = {w for w in actual_list if not w in sw}\n",
        "\n",
        "  # print(\"pred_set\", pred_set)\n",
        "  # print(\"actual_set\", actual_set)\n",
        "\n",
        "  # form a set containing keywords of both strings\n",
        "  rvector = pred_set.union(actual_set)\n",
        "  for w in rvector:\n",
        "    if w in pred_set: pred_list_final.append(1) # create a vector\n",
        "    else: pred_list_final.append(0)\n",
        "    if w in actual_set: actual_list_final.append(1)\n",
        "    else: actual_list_final.append(0)\n",
        "\n",
        "  # print(rvector)\n",
        "  # print(\"predlistfinal\", pred_list_final)\n",
        "  # print(\"actuallistfinal\", actual_list_final)\n",
        "\n",
        "  #calculating cosine similarity\n",
        "  c = 0\n",
        "\n",
        "  for i in range(len(rvector)):\n",
        "      c+= pred_list_final[i]*actual_list_final[i]\n",
        "\n",
        "  cosine = c / float((sum(pred_list_final)*sum(actual_list_final))**0.5)\n",
        "  # print(\"similarity: \", cosine)\n",
        "  cosine_sum_by_dataset[datasetLabel] = cosine_sum_by_dataset.get(datasetLabel, 0)+cosine\n",
        "  cosine_sum_by_rewrite[rewriteLabel] = cosine_sum_by_rewrite.get(rewriteLabel, 0)+cosine\n",
        "  count_by_dataset[datasetLabel] = count_by_dataset.get(datasetLabel, 0)+1\n",
        "  count_by_rewrite[rewriteLabel] = count_by_rewrite.get(rewriteLabel, 0)+1\n",
        "  totalcosine += cosine\n",
        "\n",
        "print(\"avg cosine value\", totalcosine/len(llama2bdata))\n",
        "print(\"avg cosines for each dataset category\")\n",
        "for label in cosine_sum_by_dataset.keys():\n",
        "  print(\"avg cosine for the label\", label, \"is\", cosine_sum_by_dataset[label]/count_by_dataset[label])\n",
        "print(\"avg cosines for each prompt category\")\n",
        "for label in cosine_sum_by_rewrite.keys():\n",
        "  print(\"avg cosine for the label\", label, \"is\", cosine_sum_by_rewrite[label]/count_by_rewrite[label])\n"
      ],
      "metadata": {
        "colab": {
          "base_uri": "https://localhost:8080/"
        },
        "id": "9YlwH5LvLL_q",
        "outputId": "c2092505-8be3-4bd6-ec46-6bd52b719d58"
      },
      "execution_count": null,
      "outputs": [
        {
          "output_type": "stream",
          "name": "stdout",
          "text": [
            "avg cosine value 0.021636266409769997\n",
            "avg cosines for each dataset category\n",
            "avg cosine for the label forum_messages is 0.036206819403675365\n",
            "avg cosine for the label eli5-human is 0.014670122627921788\n",
            "avg cosine for the label openwebtext is 0.02444025650251785\n",
            "avg cosine for the label eli5-chatgpt is 0.008483186705082415\n",
            "avg cosine for the label Poetry is 0.0\n",
            "avg cosines for each prompt category\n",
            "avg cosine for the label Formality_fix is 0.07494234806865929\n",
            "avg cosine for the label language is 0.020239955147279835\n",
            "avg cosine for the label Theme_change is 0.04151749878452431\n",
            "avg cosine for the label Genre_change is 0.0\n",
            "avg cosine for the label Enhancement is 0.0\n",
            "avg cosine for the label music is 0.014344382763731171\n",
            "avg cosine for the label creative is 0.008417937871268422\n",
            "avg cosine for the label Perspective_shift is 0.0\n",
            "avg cosine for the label Active/Passive is 0.020193929024003344\n",
            "avg cosine for the label Style_mimic is 0.03863528444289931\n",
            "avg cosine for the label Paraphrasing is 0.031802706430490435\n",
            "avg cosine for the label Tone_change is 0.0\n",
            "avg cosine for the label Enhancement_Details is 0.019448857162744363\n",
            "avg cosine for the label Style_change is 0.0437732769305958\n",
            "avg cosine for the label Conciseness is 0.01515151515151515\n",
            "avg cosine for the label Professional_settings is 0.010564428184106456\n"
          ]
        },
        {
          "output_type": "stream",
          "name": "stderr",
          "text": [
            "[nltk_data] Downloading package punkt to /root/nltk_data...\n",
            "[nltk_data]   Package punkt is already up-to-date!\n",
            "[nltk_data] Downloading package stopwords to /root/nltk_data...\n",
            "[nltk_data]   Package stopwords is already up-to-date!\n"
          ]
        }
      ]
    },
    {
      "cell_type": "code",
      "source": [
        "import nltk\n",
        "import math\n",
        "nltk.download('punkt')\n",
        "nltk.download('stopwords')\n",
        "from nltk.corpus import stopwords\n",
        "from nltk.tokenize import word_tokenize\n",
        "\n",
        "totalcosine = 0\n",
        "cosine_sum_by_dataset = {}\n",
        "cosine_sum_by_rewrite = {}\n",
        "count_by_dataset = {}\n",
        "count_by_rewrite = {}\n",
        "\n",
        "for item in all_data:\n",
        "  pred, actual, rewriteLabel, datasetLabel = item[:4]\n",
        "  # print(\"pred\", pred, '\\n', \"actual\", actual)\n",
        "\n",
        "  #tokenization\n",
        "  pred_list = word_tokenize(pred)\n",
        "  actual_list = word_tokenize(actual)\n",
        "\n",
        "  # print(\"pred_list\", pred_list)\n",
        "  # print(\"actual_list\", actual_list)\n",
        "\n",
        "  pred_list_final =[]; actual_list_final =[]\n",
        "\n",
        "  #remove stop words from the string\n",
        "  pred_set = {w for w in pred_list if not w in sw}\n",
        "  actual_set = {w for w in actual_list if not w in sw}\n",
        "\n",
        "  # form a set containing keywords of both strings\n",
        "  rvector = pred_set.union(actual_set)\n",
        "  for w in rvector:\n",
        "    if w in pred_set: pred_list_final.append(1) # create a vector\n",
        "    else: pred_list_final.append(0)\n",
        "    if w in actual_set: actual_list_final.append(1)\n",
        "    else: actual_list_final.append(0)\n",
        "\n",
        "  #calculating cosine similarity\n",
        "  c = 0\n",
        "\n",
        "  for i in range(len(rvector)):\n",
        "      c+= pred_list_final[i]*actual_list_final[i]\n",
        "\n",
        "  cosine = c / float((sum(pred_list_final)*sum(actual_list_final))**0.5)\n",
        "  # print(\"similarity: \", cosine)\n",
        "  cosine_sum_by_dataset[datasetLabel] = cosine_sum_by_dataset.get(datasetLabel, 0)+cosine\n",
        "  cosine_sum_by_rewrite[rewriteLabel] = cosine_sum_by_rewrite.get(rewriteLabel, 0)+cosine\n",
        "  count_by_dataset[datasetLabel] = count_by_dataset.get(datasetLabel, 0)+1\n",
        "  count_by_rewrite[rewriteLabel] = count_by_rewrite.get(rewriteLabel, 0)+1\n",
        "  totalcosine += cosine\n",
        "\n",
        "print(\"avg cosine value\", totalcosine/len(all_data))\n",
        "print(\"avg cosines for each dataset category\")\n",
        "for label in cosine_sum_by_dataset.keys():\n",
        "  print(\"avg cosine for the label\", label, \"is\", cosine_sum_by_dataset[label]/count_by_dataset[label])\n",
        "\n",
        "\n",
        "print(\"****\")\n",
        "for label in cosine_sum_by_rewrite.keys():\n",
        "  print(\"avg cosine for the label\", label, \"is\", cosine_sum_by_rewrite[label]/count_by_rewrite[label])\n"
      ],
      "metadata": {
        "colab": {
          "base_uri": "https://localhost:8080/"
        },
        "id": "Q_Gf5p2jNrvR",
        "outputId": "2e1a3d97-4e9e-40e8-cff5-bf3f1af9ff92"
      },
      "execution_count": null,
      "outputs": [
        {
          "output_type": "stream",
          "name": "stderr",
          "text": [
            "[nltk_data] Downloading package punkt to /root/nltk_data...\n",
            "[nltk_data]   Package punkt is already up-to-date!\n",
            "[nltk_data] Downloading package stopwords to /root/nltk_data...\n",
            "[nltk_data]   Package stopwords is already up-to-date!\n"
          ]
        },
        {
          "output_type": "stream",
          "name": "stdout",
          "text": [
            "avg cosine value 0.35088633900929894\n",
            "avg cosines for each dataset category\n",
            "avg cosine for the label forum_messages is 0.3910106482745524\n",
            "avg cosine for the label eli5-human is 0.539038921995597\n",
            "avg cosine for the label openwebtext is 0.23847369714108924\n",
            "avg cosine for the label eli5-chatgpt is 0.3702349499253311\n",
            "avg cosine for the label Poetry is 0.33062511517097476\n",
            "avg cosine for the label DatasetLabel is 0.0\n",
            "****\n",
            "avg cosine for the label Formality_fix is 0.31504552740194325\n",
            "avg cosine for the label language is 0.29686894758688437\n",
            "avg cosine for the label Theme_change is 0.46432370192888966\n",
            "avg cosine for the label Genre_change is 0.33729460702581465\n",
            "avg cosine for the label Enhancement is 0.15850797352677057\n",
            "avg cosine for the label music is 0.2525528622574775\n",
            "avg cosine for the label creative is 0.559466415997308\n",
            "avg cosine for the label Perspective_shift is 0.2660930105908101\n",
            "avg cosine for the label Active/Passive is 0.5338357265042409\n",
            "avg cosine for the label Style_mimic is 0.22469128980058106\n",
            "avg cosine for the label Paraphrasing is 0.3169827648765034\n",
            "avg cosine for the label Tone_change is 0.33248843098568526\n",
            "avg cosine for the label Enhancement_Details is 0.2776806138749939\n",
            "avg cosine for the label Style_change is 0.3480348583951614\n",
            "avg cosine for the label Conciseness is 0.3027571019083863\n",
            "avg cosine for the label Professional_settings is 0.36928445089773076\n",
            "avg cosine for the label RewriteLabel is 0.0\n"
          ]
        }
      ]
    }
  ]
}